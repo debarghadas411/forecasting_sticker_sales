{
 "cells": [
  {
   "cell_type": "code",
   "execution_count": 5,
   "metadata": {},
   "outputs": [],
   "source": [
    "import pandas as pd\n",
    "import numpy as np\n",
    "import matplotlib.pyplot as plt\n",
    "import seaborn as sns\n",
    "from sklearn.model_selection import train_test_split"
   ]
  },
  {
   "cell_type": "code",
   "execution_count": 7,
   "metadata": {},
   "outputs": [],
   "source": [
    "data=pd.read_csv('train.csv')\n",
    "data['date']=pd.to_datetime(data['date'])\n",
    "test_part=pd.read_csv('test.csv')\n",
    "test_part['date']=pd.to_datetime(test_part['date'])\n",
    "time_period=data['date'].max()-data['date'].min()"
   ]
  },
  {
   "cell_type": "code",
   "execution_count": 11,
   "metadata": {},
   "outputs": [
    {
     "name": "stdout",
     "output_type": "stream",
     "text": [
      "Data time period: 2556 days 00:00:00\n",
      "Test Length: 511 days 04:48:00 2015-08-07 19:12:00 2016-12-31 00:00:00\n",
      "Validation Length: 511 days 04:48:00 2014-03-14 14:24:00 2015-08-07 19:12:00\n",
      "Train Length: 1533 days 14:24:00 2010-01-01 00:00:00 2014-03-14 14:24:00\n"
     ]
    }
   ],
   "source": [
    "print('Data time period:',time_period)\n",
    "print('Test Length:',time_period*0.2,data['date'].min()+time_period*0.8,data['date'].max())\n",
    "print('Validation Length:',time_period*0.2,data['date'].min()+time_period*0.6,data['date'].min()+time_period*0.8)\n",
    "print('Train Length:',time_period*0.6,data['date'].min(),data['date'].min()+time_period*0.6)"
   ]
  },
  {
   "cell_type": "code",
   "execution_count": 12,
   "metadata": {},
   "outputs": [],
   "source": [
    "data_train=data[data['date']<data['date'].min()+time_period*0.6]\n",
    "data_val=data[(data['date']>=data['date'].min()+time_period*0.6) & (data['date']<data['date'].min()+time_period*0.8)]   \n",
    "data_test=data[data['date']>=data['date'].min()+time_period*0.8]"
   ]
  }
 ],
 "metadata": {
  "kernelspec": {
   "display_name": "Python 3",
   "language": "python",
   "name": "python3"
  },
  "language_info": {
   "codemirror_mode": {
    "name": "ipython",
    "version": 3
   },
   "file_extension": ".py",
   "mimetype": "text/x-python",
   "name": "python",
   "nbconvert_exporter": "python",
   "pygments_lexer": "ipython3",
   "version": "3.11.5"
  }
 },
 "nbformat": 4,
 "nbformat_minor": 2
}
